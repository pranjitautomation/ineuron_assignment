{
 "cells": [
  {
   "attachments": {},
   "cell_type": "markdown",
   "metadata": {},
   "source": [
    "1. What does an empty dictionary's code look like?\n",
    "\n",
    "Ans: An empty dictionary in Python is represented by a pair of curly braces with nothing in between. The code for an empty dictionary looks like this: {}"
   ]
  },
  {
   "attachments": {},
   "cell_type": "markdown",
   "metadata": {},
   "source": [
    "2. What is the value of a dictionary value with the key 'foo' and the value 42?\n",
    "\n",
    "Ans: The value of a dictionary value with the key 'foo' and the value 42 is simply 42.\n",
    "To access the value associated with the key 'foo', we can use square bracket notation with the key as the index:\n",
    "\n",
    "\n",
    "my_dict = {'foo': 42, 'bar': 'hello'}\n",
    "\n",
    "print(my_dict['foo'])   \n",
    "\n",
    "#Output: 42"
   ]
  },
  {
   "attachments": {},
   "cell_type": "markdown",
   "metadata": {},
   "source": [
    "3. What is the most significant distinction between a dictionary and a list?\n",
    "\n",
    "Ans: The most significant distinction between a dictionary and a list is the way they store and access data.\n",
    "\n",
    "    In a list, data is stored in an ordered sequence and accessed through an index, which represents the position of the element in the list. List elements can be of any data type and can be added, removed, or modified at any position within the list.\n",
    "\n",
    "    In contrast, a dictionary stores data in key-value pairs, where each key is unique and corresponds to a value. Dictionaries do not have a defined order, and instead, values are accessed by their corresponding keys. Keys in a dictionary must be unique and immutable, while values can be of any data type and mutable."
   ]
  },
  {
   "attachments": {},
   "cell_type": "markdown",
   "metadata": {},
   "source": [
    "4. What happens if you try to access spam['foo'] if spam is {'bar': 100}?\n",
    "\n",
    "Ans: If spam is a dictionary containing the key-value pair {'bar': 100} and we try to access spam['foo'], we will get a KeyError. This is because the key 'foo' does not exist in the dictionary and thus there is no corresponding value associated with it."
   ]
  },
  {
   "attachments": {},
   "cell_type": "markdown",
   "metadata": {},
   "source": [
    "5. If a dictionary is stored in spam, what is the difference between the expressions 'cat' in spam and\n",
    "'cat' in spam.keys()?\n",
    "\n",
    "Ans: Both expressions 'cat' in spam and 'cat' in spam.keys() check if the string 'cat' is a key in the dictionary spam. However, there is a subtle difference in the way they work.\n",
    "\n",
    "The expression 'cat' in spam checks if the string 'cat' is a key in the dictionary spam. If 'cat' is a key in the dictionary, this expression will evaluate to True, otherwise it will evaluate to False.\n",
    "\n",
    "On the other hand, the expression 'cat' in spam.keys() first retrieves all the keys in the spam dictionary using the keys() method, and then checks if the string 'cat' is in that list of keys. If 'cat' is a key in the dictionary, this expression will evaluate to True, otherwise it will evaluate to False."
   ]
  },
  {
   "attachments": {},
   "cell_type": "markdown",
   "metadata": {},
   "source": [
    "6. If a dictionary is stored in spam, what is the difference between the expressions 'cat' in spam and\n",
    "'cat' in spam.values()?\n",
    "\n",
    "Ans: The expression 'cat' in spam checks if the string 'cat' is a key in the dictionary spam. If 'cat' is a key in the dictionary, this expression will evaluate to True, otherwise it will evaluate to False.\n",
    "\n",
    "On the other hand, the expression 'cat' in spam.values() checks if the string 'cat' is a value in the dictionary spam. If 'cat' is a value in the dictionary, this expression will evaluate to True, otherwise it will evaluate to False."
   ]
  },
  {
   "attachments": {},
   "cell_type": "markdown",
   "metadata": {},
   "source": [
    "7. What is a shortcut for the following code?\n",
    "if 'color' not in spam:\n",
    "\n",
    "    spam['color'] = 'black'\n",
    "\n",
    "Ans: The setdefault() method can be used as a shortcut for the given code. The setdefault() method returns the value of a key in a dictionary if it exists, and if it does not exist, it sets the key to a default value and returns that value. Here is an example:\n",
    "\n",
    "spam = {'name': 'Alice', 'age': 25}\n",
    "\n",
    "spam.setdefault('color', 'black')\n",
    "\n",
    "print(spam)  \n",
    "# Output: {'name': 'Alice', 'age': 25, 'color': 'black'}\n"
   ]
  },
  {
   "attachments": {},
   "cell_type": "markdown",
   "metadata": {},
   "source": [
    "8. How do you \"pretty print\" dictionary values using which module and function?\n",
    "\n",
    "Ans: To pretty print a dictionary in Python, we can use the pprint module and its pprint() function. This function takes a dictionary as an argument and prints it in a more readable and aesthetically pleasing format.\n",
    "\n",
    "import pprint\n",
    "\n",
    "spam = {'name': 'Alice', 'age': 25, 'occupation': 'programmer'}\n",
    "\n",
    "pprint.pprint(spam)"
   ]
  }
 ],
 "metadata": {
  "kernelspec": {
   "display_name": "Python 3",
   "language": "python",
   "name": "python3"
  },
  "language_info": {
   "codemirror_mode": {
    "name": "ipython",
    "version": 3
   },
   "file_extension": ".py",
   "mimetype": "text/x-python",
   "name": "python",
   "nbconvert_exporter": "python",
   "pygments_lexer": "ipython3",
   "version": "3.10.5"
  },
  "orig_nbformat": 4
 },
 "nbformat": 4,
 "nbformat_minor": 2
}
