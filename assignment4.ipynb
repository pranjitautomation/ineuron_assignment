{
 "cells": [
  {
   "attachments": {},
   "cell_type": "markdown",
   "metadata": {},
   "source": [
    "1. What exactly is []?\n",
    "\n",
    "Ans: [] typically denotes an empty list, which is a data structure that can hold a collection of values. A list is a mutable ordered sequence of items that can be of any data type, including other lists."
   ]
  },
  {
   "attachments": {},
   "cell_type": "markdown",
   "metadata": {},
   "source": [
    "2. In a list of values stored in a variable called spam, how would you assign the value 'hello' as the third value? (Assume [2, 4, 6, 8, 10] are in spam.)"
   ]
  },
  {
   "cell_type": "code",
   "execution_count": null,
   "metadata": {},
   "outputs": [],
   "source": [
    "#If I want to replace the third element with 'hello'\n",
    "spam = [2, 4, 6, 8, 10] \n",
    "spam[2] = 'hello'\n",
    "print(spam)  \n",
    "\n",
    "## Output: [2, 4, 'hello', 8, 10]\n",
    "\n",
    "\n",
    "\n",
    "# But If you don't want to replace the existing value at index 2 i.e third element, but rather add a new value 'hello' at that position\n",
    "spam = [2, 4, 6, 8, 10]  \n",
    "spam.insert(2, 'hello')         \n",
    "print(spam)\n",
    "## output: [2, 4, 'hello', 6, 8, 10]\n"
   ]
  },
  {
   "attachments": {},
   "cell_type": "markdown",
   "metadata": {},
   "source": [
    "Let's pretend the spam includes the list ['a', 'b', 'c', 'd'] for the next three queries."
   ]
  },
  {
   "attachments": {},
   "cell_type": "markdown",
   "metadata": {},
   "source": [
    "3. What is the value of spam[int(int('3' * 2) / 11)]?\n",
    "\n",
    "Ans: spam[3] = 'd'"
   ]
  },
  {
   "attachments": {},
   "cell_type": "markdown",
   "metadata": {},
   "source": [
    "4. What is the value of spam[-1]?\n",
    "\n",
    "Ans: 'd'"
   ]
  },
  {
   "attachments": {},
   "cell_type": "markdown",
   "metadata": {},
   "source": [
    "5. What is the value of spam[:2]?\n",
    "Ans: ['a', 'b']"
   ]
  },
  {
   "attachments": {},
   "cell_type": "markdown",
   "metadata": {},
   "source": [
    "Let's pretend bacon has the list [3.14, 'cat,' 11, 'cat,' True] for the next three questions.\n",
    "6. What is the value of bacon.index('cat')?\n",
    "Ans: 1\n",
    "\n",
    "7. How does bacon.append(99) change the look of the list value in bacon?\n",
    "Ans: bacon = [3.14, 'cat', 11, 'cat', True]\n",
    "     bacon.append(99)\n",
    "     print(bacon)    \n",
    "# output: [3.14, 'cat', 11, 'cat', True, 99]\n",
    "\n",
    "8. How does bacon.remove('cat') change the look of the list in bacon?\n",
    "Ans: bacon.remove('cat')\n",
    "     print(bacon)\n",
    "# Output: [3.14, 11, 'cat', True, 99]"
   ]
  },
  {
   "attachments": {},
   "cell_type": "markdown",
   "metadata": {},
   "source": [
    "9. What are the list concatenation and list replication operators?\n",
    "\n",
    "Ans: In Python, we can use the + operator to concatenate two or more lists. When we concatenate two lists, the resulting list contains all the elements from the first list followed by all the elements from the second list, and so on.\n",
    "\n",
    "list1 = [1, 2, 3]\n",
    "list2 = [4, 5, 6]\n",
    "concatenated_list = list1 + list2\n",
    "print(concatenated_list)    \n",
    "# output: [1, 2, 3, 4, 5, 6]\n",
    "\n",
    "We can also use the * operator to replicate a list. When we replicate a list, the resulting list contains multiple copies of the original list concatenated together.\n",
    "\n",
    "list1 = [1, 2, 3]\n",
    "replicated_list = list1 * 3\n",
    "print(replicated_list)    \n",
    "# output: [1, 2, 3, 1, 2, 3, 1, 2, 3]\n"
   ]
  },
  {
   "attachments": {},
   "cell_type": "markdown",
   "metadata": {},
   "source": [
    "10. What is difference between the list methods append() and insert()?\n",
    "\n",
    "Ans: Both append() and insert() are methods used to add elements to a list in Python, but they differ in how and where they add the elements.\n",
    "\n",
    "On the other hand, the insert() method adds an element to a specific index in the list. "
   ]
  },
  {
   "attachments": {},
   "cell_type": "markdown",
   "metadata": {},
   "source": [
    "11. What are the two methods for removing items from a list?\n",
    "Ans: In Python, there are two methods for removing items from a list: remove() and pop().\n",
    "     The remove() method removes the first occurrence of a specified element from the list. \n",
    "\n",
    "     The pop() method, on the other hand, removes and returns the element at a specified index in the list. If no index is specified, pop() removes and returns the last element in the list."
   ]
  },
  {
   "attachments": {},
   "cell_type": "markdown",
   "metadata": {},
   "source": [
    "12. Describe how list values and string values are identical.\n",
    "\n",
    "Ans: In Python, lists and strings are both sequences of values, and they share some similarities in their properties and behavior. Here are some ways in which list values and string values are identical:\n",
    "\n",
    "-> Both lists and strings can be indexed and sliced: we can access individual elements in a list or a string by their index, and we can also  extract sub-sequences of elements using slicing.\n",
    "\n",
    "-> Both lists and strings are iterable: we can use a loop to iterate over the elements of a list or a string.\n",
    "\n",
    "-> Both lists and strings support the len() function: we can use the len() function to get the length of a list or a string, i.e., the number of elements it contains.\n",
    "\n"
   ]
  },
  {
   "attachments": {},
   "cell_type": "markdown",
   "metadata": {},
   "source": [
    "13. What's the difference between tuples and lists?\n",
    "Ans: The difference between tuples and lists is that lists are mutable, while tuples are immutable. This means that we can modify the contents of a list (e.g., add, remove, or modify elements), but we cannot modify the contents of a tuple after it is created."
   ]
  },
  {
   "attachments": {},
   "cell_type": "markdown",
   "metadata": {},
   "source": [
    "14. How do you type a tuple value that only contains the integer 42?\n",
    "Ans: my_tuple = (42,)\n",
    "\n",
    "The comma is required to indicate that this is a tuple with a single element, rather than just an integer value in parentheses. Without the comma, Python will interpret this as an integer in parentheses, rather than a tuple."
   ]
  },
  {
   "attachments": {},
   "cell_type": "markdown",
   "metadata": {},
   "source": [
    "15. How do you get a list value's tuple form? How do you get a tuple value's list form?\n",
    "\n",
    "Ans: To convert a list into a tuple, we can use the built-in tuple() function, like this:\n",
    "\n",
    "my_list = [1, 2, 3, 4, 5]\n",
    "my_tuple = tuple(my_list)\n",
    "print(my_tuple)   \n",
    "# output: (1, 2, 3, 4, 5)\n",
    "\n",
    "To convert a tuple into a list, we can use the built-in list() function, like this:\n",
    "my_tuple = (1, 2, 3, 4, 5)\n",
    "my_list = list(my_tuple)\n",
    "print(my_list)    \n",
    "# output: [1, 2, 3, 4, 5]\n"
   ]
  },
  {
   "attachments": {},
   "cell_type": "markdown",
   "metadata": {},
   "source": [
    "16. Variables that \"contain\" list values are not necessarily lists themselves. Instead, what do they\n",
    "contain?\n",
    "\n",
    "Ans: When we create a list in Python and assign it to a variable, the variable does not store the list values directly. Instead, it stores a reference to the memory location where the list values are stored. This reference is essentially a pointer that allows Python to access the list values when needed.\n",
    "\n",
    "So, when we manipulate a list using its variable name, we are actually manipulating the underlying list object that the variable refers to. This means that we can have multiple variables that refer to the same list object, and changes made to the list through one variable will be reflected in all other variables that refer to the same list object."
   ]
  },
  {
   "attachments": {},
   "cell_type": "markdown",
   "metadata": {},
   "source": [
    "17. How do you distinguish between copy.copy() and copy.deepcopy()?\n",
    "\n",
    "Ans: copy.copy() creates a shallow copy of an object. This means that a new object is created, but the contents of the object are still references to the same objects as the original.\n",
    "\n",
    "copy.deepcopy() creates a deep copy of an object. This means that a new object is created, and any objects nested within the original object are also copied recursively. In other words, all objects are duplicated, so changes made to the nested objects will not be reflected in the original object or any other copies.\n",
    "\n",
    "\n",
    "a = [1, 2, [3, 4]]\n",
    "b = copy.copy(a)\n",
    "c = copy.deepcopy(a)\n",
    "\n",
    "a[2].append(5)\n",
    "\n",
    "print(a)   \n",
    "# output: [1, 2, [3, 4, 5]]\n",
    "\n",
    "print(b)   \n",
    "# output: [1, 2, [3, 4, 5]]\n",
    "\n",
    "print(c)   \n",
    "# output: [1, 2, [3, 4]]\n"
   ]
  }
 ],
 "metadata": {
  "kernelspec": {
   "display_name": "Python 3",
   "language": "python",
   "name": "python3"
  },
  "language_info": {
   "codemirror_mode": {
    "name": "ipython",
    "version": 3
   },
   "file_extension": ".py",
   "mimetype": "text/x-python",
   "name": "python",
   "nbconvert_exporter": "python",
   "pygments_lexer": "ipython3",
   "version": "3.10.5"
  },
  "orig_nbformat": 4
 },
 "nbformat": 4,
 "nbformat_minor": 2
}
