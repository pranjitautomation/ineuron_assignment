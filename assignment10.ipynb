{
 "cells": [
  {
   "attachments": {},
   "cell_type": "markdown",
   "metadata": {},
   "source": [
    "# 1. How do you distinguish between shutil.copy() and shutil.copytree()?\n",
    "\n",
    "Ans: shutil.copy(src, dst) function is used to copy a single file from src path to dest directory path.\n",
    "shutil.copytree(src, dst) function is used to copy entire src directory to a particular directory path."
   ]
  },
  {
   "attachments": {},
   "cell_type": "markdown",
   "metadata": {},
   "source": [
    "# 2. What function is used to rename files??\n",
    "\n",
    "Ans: os.rename() function is used to rename a file or directory."
   ]
  },
  {
   "attachments": {},
   "cell_type": "markdown",
   "metadata": {},
   "source": [
    "# 3. What is the difference between the delete functions in the send2trash and shutil modules?\n",
    "\n",
    "Ans: shutil.rmtree() function is used to delete entire directory and shutil.remove() is used to delete a single file. In this case deleted directory or folder can not be recovered and will be deleted permanantly.\n",
    "\n",
    "On the other hand send2trash.send2trash() module is used to delete a file or a directory but here the deleted file or folder will go to the trash and can be recovered.\n"
   ]
  },
  {
   "attachments": {},
   "cell_type": "markdown",
   "metadata": {},
   "source": [
    "# 4.ZipFile objects have a close() method just like File objects’ close() method. What ZipFile method is equivalent to File objects’ open() method?\n",
    "\n",
    "Ans: Similar to the open() method in file objects, ZipFile() method in the zipfile class is used to open a archived file and allows us to read and modify the content in the archive file."
   ]
  },
  {
   "attachments": {},
   "cell_type": "markdown",
   "metadata": {},
   "source": [
    "# 5. Create a programme that searches a folder tree for files with a certain file extension (such as .pdf or .jpg). Copy these files from whatever location they are in to a new folder.\n"
   ]
  },
  {
   "cell_type": "code",
   "execution_count": 26,
   "metadata": {},
   "outputs": [],
   "source": [
    "import os\n",
    "import shutil\n",
    "\n",
    "\n",
    "def copy_files(src_path, dest_path):\n",
    "\n",
    "    src_folder = src_path.split('\\\\')[-1]\n",
    "    dest_folder = dest_path.split('\\\\')[-1]\n",
    "    \n",
    "    files_list = os.listdir(src_path)\n",
    "    print('list of files: ', files_list)\n",
    "\n",
    "    for file in files_list:\n",
    "        if str(file).endswith(('.pdf', 'jpg', '.png')):\n",
    "            shutil.copy2(os.path.join(src_path, file), dest_path)\n",
    "\n",
    "    print(f'All the Files moved from \"{src_folder}\" to \"{dest_folder}\" folder')\n"
   ]
  },
  {
   "cell_type": "code",
   "execution_count": 27,
   "metadata": {},
   "outputs": [
    {
     "name": "stdout",
     "output_type": "stream",
     "text": [
      "list of files:  ['app.pdf', 'instagram.png', 'pranjit.pdf', 'profile.jpg', 'whatsapp.jpg']\n",
      "All the Files moved from \"pdfAndpng\" to \"new_pdf_jpg_folder\" folder\n"
     ]
    }
   ],
   "source": [
    "copy_files(\n",
    "    'C:\\\\Code\\\\Self Learning\\\\Ineuron\\\\assignments\\\\pdfAndpng',\n",
    "    'C:\\\\Code\\\\Self Learning\\\\Ineuron\\\\assignments\\\\new_pdf_jpg_folder'\n",
    "    )"
   ]
  }
 ],
 "metadata": {
  "kernelspec": {
   "display_name": "Python 3",
   "language": "python",
   "name": "python3"
  },
  "language_info": {
   "codemirror_mode": {
    "name": "ipython",
    "version": 3
   },
   "file_extension": ".py",
   "mimetype": "text/x-python",
   "name": "python",
   "nbconvert_exporter": "python",
   "pygments_lexer": "ipython3",
   "version": "3.10.5"
  },
  "orig_nbformat": 4
 },
 "nbformat": 4,
 "nbformat_minor": 2
}
