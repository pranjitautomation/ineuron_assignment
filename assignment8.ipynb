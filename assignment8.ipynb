{
 "cells": [
  {
   "attachments": {},
   "cell_type": "markdown",
   "metadata": {},
   "source": [
    "# 1. Is the Python Standard Library included with PyInputPlus?\n",
    "\n",
    "Ans: No, the Python Standard Library is not included with PyInputPlus. PyInputPlus is a third-party library that provides additional functionality for taking user input in Python, such as input validation, input retry, and timeout handling. "
   ]
  },
  {
   "attachments": {},
   "cell_type": "markdown",
   "metadata": {},
   "source": [
    "# 2. Why is PyInputPlus commonly imported with import pyinputplus as pypi?\n",
    "\n",
    "Ans: PyInputPlus is commonly imported with the alias pypi using import pyinputplus as pypi to make it easier to type when calling its functions in the code. It also helps to avoid naming conflicts with other modules or functions that might have the same name as PyInputPlus functions."
   ]
  },
  {
   "attachments": {},
   "cell_type": "markdown",
   "metadata": {},
   "source": [
    "# 3. How do you distinguish between inputInt() and inputFloat()?\n",
    "\n",
    "Ans: The inputInt() and inputFloat() functions in PyInputPlus are used to get user input as integers and floating-point numbers, respectively."
   ]
  },
  {
   "attachments": {},
   "cell_type": "markdown",
   "metadata": {},
   "source": [
    "# 4. Using PyInputPlus, how do you ensure that the user enters a whole number between 0 and 99?\n",
    "\n",
    "Ans: To ensure that the user enters a whole number between 0 and 99 using PyInputPlus, we can use the inputInt() function along with the min and max arguments.\n",
    "\n",
    "import pyinputplus as pypi\n",
    "\n",
    "number = pypi.inputInt(\"Enter a number between 0 and 99: \", min=0, max=99)\n",
    "\n",
    "print(\"You entered:\", number)\n"
   ]
  },
  {
   "attachments": {},
   "cell_type": "markdown",
   "metadata": {},
   "source": [
    "# 5. What is transferred to the keyword arguments allowRegexes and blockRegexes?\n",
    "\n",
    "Ans: The allowRegexes and blockRegexes arguments in PyInputPlus are lists of regular expression strings.\n",
    "\n",
    "allowRegexes specifies a list of regex patterns that a valid input should match against. If the input doesn't match any of the regex patterns in this list, the user is asked to enter a new input.\n",
    "\n",
    "blockRegexes specifies a list of regex patterns that an invalid input should match against. If the input matches any of the regex patterns in this list, the user is asked to enter a new input."
   ]
  },
  {
   "attachments": {},
   "cell_type": "markdown",
   "metadata": {},
   "source": [
    "# 6. If a blank input is entered three times, what does inputStr(limit=3) do?\n",
    "\n",
    "Ans: If a blank input is entered three times when using inputStr(limit=3) in PyInputPlus, it will raise a ValidationException. The limit parameter specifies the maximum number of times a user can enter an invalid input before a ValidationException is raised.\n",
    "\n",
    "In this case, since a blank input is considered invalid, after the user enters a blank input for the third time, the inputStr(limit=3) function will raise a ValidationException indicating that the limit has been exceeded."
   ]
  },
  {
   "attachments": {},
   "cell_type": "markdown",
   "metadata": {},
   "source": [
    "# 7. If blank input is entered three times, what does inputStr(limit=3, default='hello') do?\n",
    "\n",
    "Ans : If a blank input is entered three times when using inputStr(limit=3, default='hello') in PyInputPlus, the function will return the default value 'hello' instead of raising a ValidationException.\n",
    "\n",
    "The limit parameter specifies the maximum number of times a user can enter an invalid input before the default value is returned. In this case, a blank input is considered invalid, so after the user enters a blank input for the third time, the function will return the default value 'hello' instead of raising an exception."
   ]
  }
 ],
 "metadata": {
  "kernelspec": {
   "display_name": "Python 3",
   "language": "python",
   "name": "python3"
  },
  "language_info": {
   "name": "python",
   "version": "3.10.5"
  },
  "orig_nbformat": 4
 },
 "nbformat": 4,
 "nbformat_minor": 2
}
