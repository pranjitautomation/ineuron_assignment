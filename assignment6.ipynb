{
 "cells": [
  {
   "attachments": {},
   "cell_type": "markdown",
   "metadata": {},
   "source": [
    "# 1. What are escape characters, and how do you use them?\n",
    "\n",
    "Ans: In Python, the escape character is the backslash (\\) and it is used to escape special characters.\n",
    "\n",
    "For example, to represent a single quote within a string literal that is enclosed in single quotes, you can use the escape character \\ before the single quote, like this:\n",
    "\n",
    "my_string = 'I\\'m a programmer'\n"
   ]
  },
  {
   "attachments": {},
   "cell_type": "markdown",
   "metadata": {},
   "source": [
    "# 2. What do the escape characters n and t stand for?\n",
    "\n",
    "Ans: In Python, the escape character sequence \\n represents a newline character and \\t represents a tab character."
   ]
  },
  {
   "attachments": {},
   "cell_type": "markdown",
   "metadata": {},
   "source": [
    "# 3. What is the way to include backslash characters in a string?\n",
    "\n",
    "ANs: To include a backslash character \\ in a string, we need to use a double backslash \\\\. This is because the backslash character is also used as an escape character, so if we want to include a literal backslash in a string, we need to escape it by using two backslashes.\n",
    "\n",
    "print(\"C:\\\\Users\\\\John\\\\Documents\")\n"
   ]
  },
  {
   "attachments": {},
   "cell_type": "markdown",
   "metadata": {},
   "source": [
    "# 4. The string \"Howl's Moving Castle\" is a correct value. Why isn't the single quote character in the word Howl's not escaped a problem?\n",
    "\n",
    "Ans: When using double quotes to define a string, we can include single quotes within the string without any issue, and vice versa.\n",
    "The single quote within the word \"Howl's\" is treated as a regular character and does not need to be escaped because it is part of the string literal enclosed in double quotes.\n",
    "\n"
   ]
  },
  {
   "attachments": {},
   "cell_type": "markdown",
   "metadata": {},
   "source": [
    "# 5. How do you write a string of newlines if you don't want to use the n character?\n",
    "\n",
    "Ans: If we don't want to use the escape sequence \\n to represent a newline character in a string, we can use multiline strings or triple quotes to create a string with multiple lines."
   ]
  },
  {
   "attachments": {},
   "cell_type": "markdown",
   "metadata": {},
   "source": [
    "# 6. What are the values of the given expressions?\n",
    "Ans: \n",
    "\n",
    "'Hello, world!'[1]  \n",
    "-> 'e'\n",
    "\n",
    "'Hello, world!'[0:5]  \n",
    "-> 'Hello'\n",
    "\n",
    "'Hello, world!'[:5] \n",
    "-> 'Hello'\n",
    "\n",
    "'Hello, world!'[3:] \n",
    "-> 'lo, world!'"
   ]
  },
  {
   "attachments": {},
   "cell_type": "markdown",
   "metadata": {},
   "source": [
    "# 7. What are the values of the following expressions?\n",
    "\n",
    "Ans:\n",
    "\n",
    "'Hello'.upper()\n",
    "-> 'HELLO'\n",
    "\n",
    "'Hello'.upper().isupper()\n",
    "-> True\n",
    "\n",
    "'Hello'.upper().lower()\n",
    "-> 'hello'"
   ]
  },
  {
   "attachments": {},
   "cell_type": "markdown",
   "metadata": {},
   "source": [
    "# 8. What are the values of the following expressions?\n",
    "\n",
    "Ans:\n",
    "\n",
    "'Remember, remember, the fifth of July.'.split()\n",
    "-> ['Remember,', 'remember,', 'the', 'fifth', 'of', 'July.']\n",
    "\n",
    "\n",
    "'-'.join('There can only one.'.split())\n",
    "-> 'There-can-only-one.'"
   ]
  },
  {
   "attachments": {},
   "cell_type": "markdown",
   "metadata": {},
   "source": [
    "# 9. What are the methods for right-justifying, left-justifying, and centering a string?\n",
    "\n",
    "Ans: In Python, strings provide three methods for adjusting the alignment: ljust(), rjust(), and center()."
   ]
  },
  {
   "attachments": {},
   "cell_type": "markdown",
   "metadata": {},
   "source": [
    "# 10. What is the best way to remove whitespace characters from the start or end?\n",
    "\n",
    "Ans: In Python, the most common and effective way to remove whitespace characters from the start or end of a string is by using the strip() method. The strip() method removes leading and trailing whitespace characters (including spaces, tabs, and newline characters) from the string and returns the modified string.\n",
    "\n"
   ]
  }
 ],
 "metadata": {
  "kernelspec": {
   "display_name": "Python 3",
   "language": "python",
   "name": "python3"
  },
  "language_info": {
   "codemirror_mode": {
    "name": "ipython",
    "version": 3
   },
   "file_extension": ".py",
   "mimetype": "text/x-python",
   "name": "python",
   "nbconvert_exporter": "python",
   "pygments_lexer": "ipython3",
   "version": "3.10.5"
  },
  "orig_nbformat": 4
 },
 "nbformat": 4,
 "nbformat_minor": 2
}
