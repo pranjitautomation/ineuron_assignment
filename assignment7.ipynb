{
 "cells": [
  {
   "attachments": {},
   "cell_type": "markdown",
   "metadata": {},
   "source": [
    "# 1. What is the name of the feature responsible for generating Regex objects?\n",
    "\n",
    "Ans: The feature responsible for generating Regex objects in Python is called the \"re\" module. The \"re\" module provides support for regular expressions, including functions and methods to compile, match, search, and manipulate strings using regular expressions."
   ]
  },
  {
   "attachments": {},
   "cell_type": "markdown",
   "metadata": {},
   "source": [
    "# 2. Why do raw strings often appear in Regex objects?\n",
    "\n",
    "Ans: Raw strings (r'...') are often used in regular expressions to avoid unwanted escaping of special characters. Regular expressions often contain special characters with special meanings, such as backslashes (\\), which are used to escape other characters or introduce special sequences.\n",
    "\n",
    "By using raw strings, backslashes and other special characters are treated literally, without any special interpretation. This is useful when working with regular expressions because it allows us to write the pattern without having to escape the backslashes explicitly."
   ]
  },
  {
   "attachments": {},
   "cell_type": "markdown",
   "metadata": {},
   "source": [
    "# 3. What is the return value of the search() method?\n",
    "\n",
    "Ans: The return value of the search() method in Python's regular expression module (re) is a match object if a match is found, or None if no match is found."
   ]
  },
  {
   "attachments": {},
   "cell_type": "markdown",
   "metadata": {},
   "source": [
    "# 4. From a Match item, how do you get the actual strings that match the pattern?\n",
    "\n",
    "Ans: To get the actual strings that match the pattern from a match object, we can use the group() method. The group() method returns the specific matched string or matched strings for the pattern or any captured groups.\n",
    "\n",
    "By default, group(0) returns the entire matched string, and subsequent group(n) returns the matched string for the nth captured group, where n is the group number."
   ]
  },
  {
   "attachments": {},
   "cell_type": "markdown",
   "metadata": {},
   "source": [
    "# 5. In the regex which created from the r'(\\d\\d\\d)-(\\d\\d\\d-\\d\\d\\d\\d)', what does group zero cover? Group 2? Group 1?\n",
    "\n",
    "Ans: In the regular expression r'(\\d\\d\\d)-(\\d\\d\\d-\\d\\d\\d\\d)', the groups are defined by the parentheses ( ). Let's break down the groups:\n",
    "\n",
    "Group 0: The entire matched string. It covers the entire pattern match.\n",
    "\n",
    "Group 1: It corresponds to (\\d\\d\\d), which matches three consecutive digits followed by a hyphen. It captures the first set of three digits.\n",
    "\n",
    "Group 2: It corresponds to (\\d\\d\\d-\\d\\d\\d\\d), which matches three digits followed by a hyphen and then four digits. It captures the second part of the phone nu"
   ]
  },
  {
   "attachments": {},
   "cell_type": "markdown",
   "metadata": {},
   "source": [
    "# 6. In standard expression syntax, parentheses and intervals have distinct meanings. How can you tell a regex that you want it to fit real parentheses and periods?\n",
    "\n",
    "Ans: To tell a regular expression that we want to match literal parentheses and periods (dots), we can use the backslash \\ to escape these characters. \n",
    "\n",
    "Here's how we can escape parentheses and periods in a regular expression:\n",
    "\n",
    "Parentheses: To match literal parentheses, use \\( to match an opening parenthesis and \\[ to match a closing parenthesis. For example, to match the string \"(hello)\", we can use the regex pattern r'\\(hello\\)'.\n",
    "\n",
    "Periods (dots): To match a literal period, use \\.. For example, to match the string \"example.com\", we can use the regex pattern r'example\\.com'."
   ]
  },
  {
   "attachments": {},
   "cell_type": "markdown",
   "metadata": {},
   "source": [
    "# 7. The findall() method returns a string list or a list of string tuples. What causes it to return one of\n",
    "the two options?\n",
    "\n",
    "Ans:  The findall() method from the re module in Python returns a list of strings when the regular expression pattern being searched doesn't contain any capturing groups (parentheses ()), and it returns a list of string tuples when the pattern includes capturing groups."
   ]
  },
  {
   "attachments": {},
   "cell_type": "markdown",
   "metadata": {},
   "source": [
    "# 8. In standard expressions, what does the | character mean?\n",
    "\n",
    "Ans: In regular expressions, the | character is known as the pipe or alternation operator. It represents logical OR, allowing us to specify multiple alternatives for matching patterns."
   ]
  },
  {
   "attachments": {},
   "cell_type": "markdown",
   "metadata": {},
   "source": [
    "# 9. In regular expressions, what does the character stand for?\n",
    "\n",
    "Ans:  In regular expressions, the ? character is a quantifier that specifies optional matching. It denotes that the preceding element or group can occur zero or one time.\n",
    "\n"
   ]
  },
  {
   "attachments": {},
   "cell_type": "markdown",
   "metadata": {},
   "source": [
    "# 10.In regular expressions, what is the difference between the + and * characters?\n",
    "\n",
    "Ans: In regular expressions, the + and * characters are quantifiers that specify the number of occurrences of the preceding element or group. The main difference between the + and * characters is as follows:\n",
    "\n",
    "+ (Plus Quantifier): The + character denotes that the preceding element or group must occur one or more times. It requires at least one occurrence of the preceding element for a match to be found. For example, the pattern go+d matches \"god\", \"good\", \"goood\", and so on, but it will not match \"gd\" because the + quantifier requires at least one \"o\".\n",
    "\n",
    "* (Asterisk Quantifier): The * character denotes that the preceding element or group can occur zero or more times. It allows for optional occurrences of the preceding element. For example, the pattern go*d matches \"gd\", \"god\", \"good\", \"goood\", and so on, because the * quantifier allows for zero or more \"o\" characters."
   ]
  },
  {
   "attachments": {},
   "cell_type": "markdown",
   "metadata": {},
   "source": [
    "# 11. What is the difference between {4} and {4,5} in regular expression?\n",
    "\n",
    "Ans: In regular expressions, {4} and {4,5} are both quantifiers that specify the number of occurrences of the preceding element or group. The main difference between {4} and {4,5} is as follows:\n",
    "\n",
    "{4} Quantifier: The {4} quantifier specifies that the preceding element or group must occur exactly four times. It matches exactly four consecutive occurrences of the preceding element. For example, the pattern a{4} matches \"aaaa\", but it will not match \"aa\" or \"aaaaa\" because it expects exactly four \"a\" characters.\n",
    "\n",
    "{4,5} Quantifier: The {4,5} quantifier specifies a range of occurrences for the preceding element or group. It matches a minimum of four occurrences and a maximum of five occurrences of the preceding element. For example, the pattern a{4,5} matches \"aaaa\" and \"aaaaa\", but it will not match \"aa\" or \"aaaaaa\" because it expects a minimum of four and a maximum of five \"a\" characters."
   ]
  },
  {
   "attachments": {},
   "cell_type": "markdown",
   "metadata": {},
   "source": [
    "# 12. What do you mean by the \\d, \\w, and \\s shorthand character classes signify in regular expressions?\n",
    "\n",
    "Ans: In regular expressions, the \\d, \\w, and \\s are shorthand character classes that represent certain predefined character sets. Here's what they signify:\n",
    "\n",
    "\\d - Represents any digit character. It matches any single digit from 0 to 9. It is equivalent to the character class [0-9]. For example, the pattern \\d\\d matches any two consecutive digits.\n",
    "\n",
    "\\w - Represents any word character. It matches any alphanumeric character (letters, digits, or underscore). For example, the pattern \\w+ matches one or more consecutive word characters.\n",
    "\n",
    "\\s - Represents any whitespace character. It matches spaces, tabs, newlines, and other whitespace characters. For example, the pattern \\s+ matches one or more consecutive whitespace characters."
   ]
  },
  {
   "attachments": {},
   "cell_type": "markdown",
   "metadata": {},
   "source": [
    "# 13. What do means by \\D, \\W, and \\S shorthand character classes signify in regular expressions?\n",
    "\n",
    "Ans: In regular expressions, the \\D, \\W, and \\S are shorthand character classes that represent the negation or complement of the corresponding shorthand character classes \\d, \\w, and \\s. Here's what they signify:\n",
    "\n",
    "\\D - Represents any non-digit character. It matches any character that is not a digit (0-9). It is equivalent to the character class [^0-9]. For example, the pattern \\D+ matches one or more consecutive non-digit characters.\n",
    "\n",
    "\\W - Represents any non-word character. It matches any character that is not an alphanumeric character (letters, digits, or underscore). For example, the pattern \\W+ matches one or more consecutive non-word characters.\n",
    "\n",
    "\\S - Represents any non-whitespace character. It matches any character that is not a whitespace character (space, tab, newline, etc.). For example, the pattern \\S+ matches one or more consecutive non-whitespace characters."
   ]
  },
  {
   "attachments": {},
   "cell_type": "markdown",
   "metadata": {},
   "source": [
    "# 14. What is the difference between .*? and .*?\n",
    "\n",
    "Ans: The difference between .*? and .* in regular expressions lies in their behavior of matching characters.\n",
    "\n",
    ".*? is a non-greedy or lazy quantifier, which matches as few characters as possible. It will match zero or more occurrences of any character, but it tries to find the shortest match. In other words, it performs the match in a non-greedy manner.\n",
    "\n",
    ".* is a greedy quantifier, which matches as many characters as possible. It will match zero or more occurrences of any character, and it tries to find the longest match possible. In other words, it performs the match in a greedy manner.\n",
    "\n",
    "\n",
    "import re\n",
    "\n",
    "text = 'abcabcabc'\n",
    "\n",
    "pattern1 = r'a.*?c'\n",
    "\n",
    "matches1 = re.findall(pattern1, text)\n",
    "\n",
    "print(matches1)  # Output: ['abc', 'abc', 'abc']\n",
    "\n",
    "pattern2 = r'a.*c'\n",
    "\n",
    "matches2 = re.findall(pattern2, text)\n",
    "\n",
    "print(matches2)  # Output: ['abcabcabc']"
   ]
  },
  {
   "attachments": {},
   "cell_type": "markdown",
   "metadata": {},
   "source": [
    "# 15. What is the syntax for matching both numbers and lowercase letters with a character class?\n",
    "\n",
    "Ans: The syntax for matching numbers (0-9) and lowercase letters (a-z) with a character class is [0-9a-z]. Here, the square brackets [ ] define the character class, and the range 0-9 specifies all digits, while a-z specifies all lowercase letters."
   ]
  },
  {
   "attachments": {},
   "cell_type": "markdown",
   "metadata": {},
   "source": [
    "# 16. What is the procedure for making a normal expression in regax case insensitive?\n",
    "\n",
    "Ans: To make a regular expression case insensitive in Python, we can use the re.IGNORECASE flag or the re.I flag as an argument to the regex functions or methods. This flag allows the pattern to match both uppercase and lowercase characters without distinction."
   ]
  },
  {
   "attachments": {},
   "cell_type": "markdown",
   "metadata": {},
   "source": [
    "# 17. What does the . character normally match? What does it match if re.DOTALL is passed as 2nd argument in re.compile()?\n",
    "\n",
    "Ans: The . character in a regular expression normally matches any character except a newline (\\n). It matches a single character of any kind.\n",
    "\n",
    "However, if the re.DOTALL flag (or re.S) is passed as the second argument to the re.compile() function or any other regex function or method, then the . character will match any character, including a newline."
   ]
  },
  {
   "attachments": {},
   "cell_type": "markdown",
   "metadata": {},
   "source": [
    "# 18. If numReg = re.compile(r'\\d+'), what will numRegex.sub('X', '11 drummers, 10 pipers, five rings, 4 hen') return?\n",
    "\n",
    "Ans: 'X drummers, X pipers, five rings, X hen'"
   ]
  },
  {
   "attachments": {},
   "cell_type": "markdown",
   "metadata": {},
   "source": [
    "# 19. What does passing re.VERBOSE as the 2nd argument to re.compile() allow to do?\n",
    "\n",
    "Ans: Passing re.VERBOSE as the second argument to re.compile() allows for the use of verbose mode in regular expressions.\n",
    "\n",
    "Verbose mode enables the use of whitespace and comments within the regular expression pattern to enhance its readability. It allows us to add line breaks, indentation, and comments without affecting the pattern's functionality."
   ]
  },
  {
   "attachments": {},
   "cell_type": "markdown",
   "metadata": {},
   "source": [
    "# 20. How would you write a regex that match a number with comma for every three digits? It must match the given following:\n",
    "'42'\n",
    "'1,234'\n",
    "'6,368,745'\n",
    "\n",
    "but not the following:\n",
    "'12,34,567' (which has only two digits between the commas)\n",
    "'1234' (which lacks commas)"
   ]
  },
  {
   "cell_type": "code",
   "execution_count": 2,
   "metadata": {},
   "outputs": [
    {
     "name": "stdout",
     "output_type": "stream",
     "text": [
      "Match: 42\n",
      "Match: 1,234\n",
      "Match: 6,368,745\n",
      "No match: 12,34,567\n",
      "No match: 1234\n"
     ]
    }
   ],
   "source": [
    "import re\n",
    "\n",
    "pattern = r'^\\d{1,3}(,\\d{3})*(?<!\\d,\\d{2})$'\n",
    "\n",
    "test_strings = ['42', '1,234', '6,368,745', '12,34,567', '1234']\n",
    "\n",
    "for string in test_strings:\n",
    "    match = re.match(pattern, string)\n",
    "    if match:\n",
    "        print(f\"Match: {string}\")\n",
    "    else:\n",
    "        print(f\"No match: {string}\")"
   ]
  },
  {
   "attachments": {},
   "cell_type": "markdown",
   "metadata": {},
   "source": [
    "# 21. How would you write a regex that matches the full name of someone whose last name is Watanabe? You can assume that the first name that comes before it will always be one word that begins with a capital letter. The regex must match the following:\n",
    "'Haruto Watanabe'\n",
    "'Alice Watanabe'\n",
    "'RoboCop Watanabe'\n",
    "but not the following:\n",
    "'haruto Watanabe' (where the first name is not capitalized)\n",
    "'Mr. Watanabe' (where the preceding word has a nonletter character)\n",
    "'Watanabe' (which has no first name)\n",
    "'Haruto watanabe' (where Watanabe is not capitalized)"
   ]
  },
  {
   "cell_type": "code",
   "execution_count": 3,
   "metadata": {},
   "outputs": [
    {
     "name": "stdout",
     "output_type": "stream",
     "text": [
      "Match: Haruto Watanabe\n",
      "Match: Alice Watanabe\n",
      "Match: RoboCop Watanabe\n",
      "No match: haruto Watanabe\n",
      "No match: Mr. Watanabe\n",
      "No match: Watanabe\n",
      "No match: Haruto watanabe\n"
     ]
    }
   ],
   "source": [
    "import re\n",
    "\n",
    "pattern = r'^[A-Z][a-zA-Z]*\\sWatanabe$'\n",
    "\n",
    "test_strings = ['Haruto Watanabe', 'Alice Watanabe', 'RoboCop Watanabe', 'haruto Watanabe',\n",
    "                'Mr. Watanabe', 'Watanabe', 'Haruto watanabe']\n",
    "\n",
    "for string in test_strings:\n",
    "    match = re.match(pattern, string)\n",
    "    if match:\n",
    "        print(f\"Match: {string}\")\n",
    "    else:\n",
    "        print(f\"No match: {string}\")\n"
   ]
  },
  {
   "attachments": {},
   "cell_type": "markdown",
   "metadata": {},
   "source": [
    "# 22. How would you write a regex that matches a sentence where the first word is either Alice, Bob, or Carol; the second word is either eats, pets, or throws; the third word is apples, cats, or baseballs; and the sentence ends with a period? This regex should be case-insensitive. It must match the following:\n",
    "'Alice eats apples.'\n",
    "'Bob pets cats.'\n",
    "'Carol throws baseballs.'\n",
    "'Alice throws Apples.'\n",
    "'BOB EATS CATS.'\n",
    "but not the following:\n",
    "'RoboCop eats apples.'\n",
    "'ALICE THROWS FOOTBALLS.'\n",
    "'Carol eats 7 cats.'"
   ]
  }
 ],
 "metadata": {
  "kernelspec": {
   "display_name": "Python 3",
   "language": "python",
   "name": "python3"
  },
  "language_info": {
   "codemirror_mode": {
    "name": "ipython",
    "version": 3
   },
   "file_extension": ".py",
   "mimetype": "text/x-python",
   "name": "python",
   "nbconvert_exporter": "python",
   "pygments_lexer": "ipython3",
   "version": "3.10.5"
  },
  "orig_nbformat": 4
 },
 "nbformat": 4,
 "nbformat_minor": 2
}
