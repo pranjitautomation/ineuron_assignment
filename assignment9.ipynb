{
 "cells": [
  {
   "attachments": {},
   "cell_type": "markdown",
   "metadata": {},
   "source": [
    "# 1. To what does a relative path refer?\n",
    "\n",
    "Ans:  A relative path refers to the location of a file or directory relative to the current working directory of the Python script being executed."
   ]
  },
  {
   "attachments": {},
   "cell_type": "markdown",
   "metadata": {},
   "source": [
    "# 2. What does an absolute path start with your operating system?\n",
    "\n",
    "Ans: In most operating systems, an absolute path starts with the root directory. The root directory of the drive is then represented by a backslash. For example, \"C:\\Users\\Username\\Documents\""
   ]
  },
  {
   "attachments": {},
   "cell_type": "markdown",
   "metadata": {},
   "source": [
    "# 3. What do the functions os.getcwd() and os.chdir() do?\n",
    "\n",
    "Ans: os.getcwd() returns a string that represents the current working directory.\n",
    "os.chdir() is used to change the current working directory to the specified path. "
   ]
  },
  {
   "attachments": {},
   "cell_type": "markdown",
   "metadata": {},
   "source": [
    "# 4. What are the . and .. folders?\n",
    "\n",
    "Ans:  The dot ('.') represents the current directory. It is used to refer to the directory itself.\n",
    "The dot-dot ('..') represents the parent directory. It is used to refer to the directory that is one level up in the directory hierarchy."
   ]
  },
  {
   "attachments": {},
   "cell_type": "markdown",
   "metadata": {},
   "source": [
    "# 5. In C:\\bacon\\eggs\\spam.txt, which part is the dir name, and which part is the base name?\n",
    "\n",
    "Ans: Directory name: C:\\bacon\\eggs\n",
    "Base Name: spam.txt"
   ]
  },
  {
   "attachments": {},
   "cell_type": "markdown",
   "metadata": {},
   "source": [
    "# 6. What are the three “mode” arguments that can be passed to the open() function?\n",
    "\n",
    "Ans: Three modes are: Read mode('r') for read the file, Write mode('w') for writing in the file, Append mode('a') for appending in the file."
   ]
  },
  {
   "attachments": {},
   "cell_type": "markdown",
   "metadata": {},
   "source": [
    "# 7. What happens if an existing file is opened in write mode?\n",
    "\n",
    "Ans: If an existing file is opened in write mode (\"w\"), the file will be truncated, which means that its contents will be completely deleted. The file will be treated as empty, and any previous data in the file will be lost."
   ]
  },
  {
   "attachments": {},
   "cell_type": "markdown",
   "metadata": {},
   "source": [
    "# 8. How do you tell the difference between read() and readlines()?\n",
    "\n",
    "Ans: The read() method is used to read the entire contents of a file as a single string. \n",
    "The readlines() method is used to read the contents of a file line by line and returns a list of strings,"
   ]
  },
  {
   "attachments": {},
   "cell_type": "markdown",
   "metadata": {},
   "source": [
    "# 9. What data structure does a shelf value resemble?\n",
    "\n",
    "Ans: The shelf data structure resembles a dictionary. It allows us to store values associated with unique keys, and we can access the values by using the keys. The main distinction of a shelf is that it provides persistence. The key-value pairs are stored in a file on disk, allowing us to retain the data even after the program terminates."
   ]
  }
 ],
 "metadata": {
  "language_info": {
   "name": "python"
  },
  "orig_nbformat": 4
 },
 "nbformat": 4,
 "nbformat_minor": 2
}
